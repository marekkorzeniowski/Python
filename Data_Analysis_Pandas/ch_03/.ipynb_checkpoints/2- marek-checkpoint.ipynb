{
 "cells": [
  {
   "cell_type": "code",
   "execution_count": 5,
   "metadata": {},
   "outputs": [
    {
     "data": {
      "text/plain": [
       "200"
      ]
     },
     "execution_count": 5,
     "metadata": {},
     "output_type": "execute_result"
    }
   ],
   "source": [
    "token ='jyJkyAhgZxfZTifXwMPichXZAgoZTcrv'\n",
    "\n",
    "    \n",
    "import requests\n",
    "\n",
    "def make_request(endpoint, payload=None):\n",
    "    return requests.get(\n",
    "    f\"https://www.ncdc.noaa.gov/cdo-web/api/v2/{endpoint}\",\n",
    "    headers={\n",
    "        'token':'jyJkyAhgZxfZTifXwMPichXZAgoZTcrv'\n",
    "    },\n",
    "    params=payload\n",
    "    )\n",
    "\n",
    "\n",
    "response = make_request('datasets')\n",
    "response.status_code"
   ]
  },
  {
   "cell_type": "code",
   "execution_count": 6,
   "metadata": {},
   "outputs": [
    {
     "data": {
      "text/plain": [
       "dict_keys(['metadata', 'results'])"
      ]
     },
     "execution_count": 6,
     "metadata": {},
     "output_type": "execute_result"
    }
   ],
   "source": [
    "response.json().keys()"
   ]
  },
  {
   "cell_type": "code",
   "execution_count": 7,
   "metadata": {},
   "outputs": [
    {
     "data": {
      "text/plain": [
       "{'resultset': {'offset': 1, 'count': 11, 'limit': 25}}"
      ]
     },
     "execution_count": 7,
     "metadata": {},
     "output_type": "execute_result"
    }
   ],
   "source": [
    "response.json()['metadata']"
   ]
  },
  {
   "cell_type": "code",
   "execution_count": 9,
   "metadata": {},
   "outputs": [
    {
     "data": {
      "text/plain": [
       "dict_keys(['uid', 'mindate', 'maxdate', 'name', 'datacoverage', 'id'])"
      ]
     },
     "execution_count": 9,
     "metadata": {},
     "output_type": "execute_result"
    }
   ],
   "source": [
    "response.json()['results'][0].keys()"
   ]
  },
  {
   "cell_type": "code",
   "execution_count": 10,
   "metadata": {},
   "outputs": [
    {
     "data": {
      "text/plain": [
       "[('GHCND', 'Daily Summaries'),\n",
       " ('GSOM', 'Global Summary of the Month'),\n",
       " ('GSOY', 'Global Summary of the Year'),\n",
       " ('NEXRAD2', 'Weather Radar (Level II)'),\n",
       " ('NEXRAD3', 'Weather Radar (Level III)'),\n",
       " ('NORMAL_ANN', 'Normals Annual/Seasonal'),\n",
       " ('NORMAL_DLY', 'Normals Daily'),\n",
       " ('NORMAL_HLY', 'Normals Hourly'),\n",
       " ('NORMAL_MLY', 'Normals Monthly'),\n",
       " ('PRECIP_15', 'Precipitation 15 Minute'),\n",
       " ('PRECIP_HLY', 'Precipitation Hourly')]"
      ]
     },
     "execution_count": 10,
     "metadata": {},
     "output_type": "execute_result"
    }
   ],
   "source": [
    "[(data['id'], data['name']) for data in response.json()['results']]"
   ]
  },
  {
   "cell_type": "code",
   "execution_count": 11,
   "metadata": {},
   "outputs": [],
   "source": [
    "requests.get?"
   ]
  },
  {
   "cell_type": "code",
   "execution_count": 12,
   "metadata": {},
   "outputs": [
    {
     "data": {
      "text/plain": [
       "{'metadata': {'resultset': {'offset': 1, 'count': 11, 'limit': 25}},\n",
       " 'results': [{'uid': 'gov.noaa.ncdc:C00861',\n",
       "   'mindate': '1763-01-01',\n",
       "   'maxdate': '2019-11-01',\n",
       "   'name': 'Daily Summaries',\n",
       "   'datacoverage': 1,\n",
       "   'id': 'GHCND'},\n",
       "  {'uid': 'gov.noaa.ncdc:C00946',\n",
       "   'mindate': '1763-01-01',\n",
       "   'maxdate': '2019-09-01',\n",
       "   'name': 'Global Summary of the Month',\n",
       "   'datacoverage': 1,\n",
       "   'id': 'GSOM'},\n",
       "  {'uid': 'gov.noaa.ncdc:C00947',\n",
       "   'mindate': '1763-01-01',\n",
       "   'maxdate': '2019-01-01',\n",
       "   'name': 'Global Summary of the Year',\n",
       "   'datacoverage': 1,\n",
       "   'id': 'GSOY'},\n",
       "  {'uid': 'gov.noaa.ncdc:C00345',\n",
       "   'mindate': '1991-06-05',\n",
       "   'maxdate': '2019-11-01',\n",
       "   'name': 'Weather Radar (Level II)',\n",
       "   'datacoverage': 0.95,\n",
       "   'id': 'NEXRAD2'},\n",
       "  {'uid': 'gov.noaa.ncdc:C00708',\n",
       "   'mindate': '1994-05-20',\n",
       "   'maxdate': '2019-10-31',\n",
       "   'name': 'Weather Radar (Level III)',\n",
       "   'datacoverage': 0.95,\n",
       "   'id': 'NEXRAD3'},\n",
       "  {'uid': 'gov.noaa.ncdc:C00821',\n",
       "   'mindate': '2010-01-01',\n",
       "   'maxdate': '2010-01-01',\n",
       "   'name': 'Normals Annual/Seasonal',\n",
       "   'datacoverage': 1,\n",
       "   'id': 'NORMAL_ANN'},\n",
       "  {'uid': 'gov.noaa.ncdc:C00823',\n",
       "   'mindate': '2010-01-01',\n",
       "   'maxdate': '2010-12-31',\n",
       "   'name': 'Normals Daily',\n",
       "   'datacoverage': 1,\n",
       "   'id': 'NORMAL_DLY'},\n",
       "  {'uid': 'gov.noaa.ncdc:C00824',\n",
       "   'mindate': '2010-01-01',\n",
       "   'maxdate': '2010-12-31',\n",
       "   'name': 'Normals Hourly',\n",
       "   'datacoverage': 1,\n",
       "   'id': 'NORMAL_HLY'},\n",
       "  {'uid': 'gov.noaa.ncdc:C00822',\n",
       "   'mindate': '2010-01-01',\n",
       "   'maxdate': '2010-12-01',\n",
       "   'name': 'Normals Monthly',\n",
       "   'datacoverage': 1,\n",
       "   'id': 'NORMAL_MLY'},\n",
       "  {'uid': 'gov.noaa.ncdc:C00505',\n",
       "   'mindate': '1970-05-12',\n",
       "   'maxdate': '2014-01-01',\n",
       "   'name': 'Precipitation 15 Minute',\n",
       "   'datacoverage': 0.25,\n",
       "   'id': 'PRECIP_15'},\n",
       "  {'uid': 'gov.noaa.ncdc:C00313',\n",
       "   'mindate': '1900-01-01',\n",
       "   'maxdate': '2014-01-01',\n",
       "   'name': 'Precipitation Hourly',\n",
       "   'datacoverage': 1,\n",
       "   'id': 'PRECIP_HLY'}]}"
      ]
     },
     "execution_count": 12,
     "metadata": {},
     "output_type": "execute_result"
    }
   ],
   "source": [
    "response.json()"
   ]
  },
  {
   "cell_type": "code",
   "execution_count": 13,
   "metadata": {},
   "outputs": [],
   "source": [
    "response = make_request('datatypes', payload={'datacatagoryid': 'TEMP', 'limit':100})"
   ]
  },
  {
   "cell_type": "code",
   "execution_count": 14,
   "metadata": {},
   "outputs": [
    {
     "data": {
      "text/plain": [
       "200"
      ]
     },
     "execution_count": 14,
     "metadata": {},
     "output_type": "execute_result"
    }
   ],
   "source": [
    "response.status_code"
   ]
  },
  {
   "cell_type": "code",
   "execution_count": 15,
   "metadata": {},
   "outputs": [
    {
     "data": {
      "text/plain": [
       "[('ACMC',\n",
       "  'Average cloudiness midnight to midnight from 30-second ceilometer data'),\n",
       " ('ACMH', 'Average cloudiness midnight to midnight from manual observations'),\n",
       " ('ACSC',\n",
       "  'Average cloudiness sunrise to sunset from 30-second ceilometer data'),\n",
       " ('ACSH', 'Average cloudiness sunrise to sunset from manual observations'),\n",
       " ('ALL', 'Base Data'),\n",
       " ('ANN-CLDD-BASE45',\n",
       "  'Long-term averages of annual cooling degree days with base 45F'),\n",
       " ('ANN-CLDD-BASE50',\n",
       "  'Long-term averages of annual cooling degree days with base 50F'),\n",
       " ('ANN-CLDD-BASE55',\n",
       "  'Long-term averages of annual cooling degree days with base 55F'),\n",
       " ('ANN-CLDD-BASE57',\n",
       "  'Long-term averages of annual cooling degree days with base 57F'),\n",
       " ('ANN-CLDD-BASE60',\n",
       "  'Long-term averages of annual cooling degree days with base 60F'),\n",
       " ('ANN-CLDD-BASE70',\n",
       "  'Long-term averages of annual cooling degree days with base 70F'),\n",
       " ('ANN-CLDD-BASE72',\n",
       "  'Long-term averages of annual cooling degree days with base 72F'),\n",
       " ('ANN-CLDD-NORMAL',\n",
       "  'Long-term averages of annual cooling degree days with base 65F'),\n",
       " ('ANN-DUTR-NORMAL', 'Long-term averages of annual diurnal temperature range'),\n",
       " ('ANN-GRDD-BASE40',\n",
       "  'Long-term averages of annual growing degree days with base 40F'),\n",
       " ('ANN-GRDD-BASE45',\n",
       "  'Long-term averages of annual growing degree days with base 45F'),\n",
       " ('ANN-GRDD-BASE50',\n",
       "  'Long-term averages of annual growing degree days with base 50F'),\n",
       " ('ANN-GRDD-BASE55',\n",
       "  'Long-term averages of annual growing degree days with base 55F'),\n",
       " ('ANN-GRDD-BASE57',\n",
       "  'Long-term averages of annual growing degree days with base 57F'),\n",
       " ('ANN-GRDD-BASE60',\n",
       "  'Long-term averages of annual growing degree days with base 60F'),\n",
       " ('ANN-GRDD-BASE65',\n",
       "  'Long-term averages of annual growing degree days with base 65F'),\n",
       " ('ANN-GRDD-BASE70',\n",
       "  'Long-term averages of annual growing degree days with base 70F'),\n",
       " ('ANN-GRDD-BASE72',\n",
       "  'Long-term averages of annual growing degree days with base 72F'),\n",
       " ('ANN-GRDD-TB4886',\n",
       "  'Long-term averages of annual growing degree days with truncated bases 48F and 86F'),\n",
       " ('ANN-GRDD-TB5086',\n",
       "  'Long-term averages of annual growing degree days with truncated bases 50F and 86F'),\n",
       " ('ANN-HTDD-BASE40',\n",
       "  'Long-term averages of annual heating degree days with base 40F'),\n",
       " ('ANN-HTDD-BASE45',\n",
       "  'Long-term averages of annual heating degree days with base 45F'),\n",
       " ('ANN-HTDD-BASE50',\n",
       "  'Long-term averages of annual heating degree days with base 50F'),\n",
       " ('ANN-HTDD-BASE55',\n",
       "  'Long-term averages of annual heating degree days with base 55F'),\n",
       " ('ANN-HTDD-BASE57',\n",
       "  'Long-term averages of annual heating degree days with base 57F'),\n",
       " ('ANN-HTDD-BASE60',\n",
       "  'Long-term averages of annual heating degree days with base 60F'),\n",
       " ('ANN-HTDD-NORMAL',\n",
       "  'Long-term averages of annual heating degree days with base 65F'),\n",
       " ('ANN-PRCP-AVGNDS-GE001HI',\n",
       "  'Long-term averages of number of days during the year with precipitation >= 0.01 inches'),\n",
       " ('ANN-PRCP-AVGNDS-GE010HI',\n",
       "  'Long-term averages of number of days during the year with precipitation >= 0.10 inches'),\n",
       " ('ANN-PRCP-AVGNDS-GE050HI',\n",
       "  'Long-term averages of number of days during the year with precipitation >= 0.50 inches'),\n",
       " ('ANN-PRCP-AVGNDS-GE100HI',\n",
       "  'Long-term averages of number of days during the year with precipitation >= 1.00 inches'),\n",
       " ('ANN-PRCP-NORMAL', 'Long-term averages of annual precipitation totals'),\n",
       " ('ANN-SNOW-AVGNDS-GE001TI',\n",
       "  'Long-term averages of number of days during the year with snowfall >= 0.1 inches'),\n",
       " ('ANN-SNOW-AVGNDS-GE010TI',\n",
       "  'Long-term averages of number of days during the year with snowfall >= 1.0 inches'),\n",
       " ('ANN-SNOW-AVGNDS-GE030TI',\n",
       "  'Long-term averages of number of days during the year with snowfall >= 3.0 inches'),\n",
       " ('ANN-SNOW-AVGNDS-GE050TI',\n",
       "  'Long-term averages of number of days during the year with snowfall >= 5.0 inches'),\n",
       " ('ANN-SNOW-AVGNDS-GE100TI',\n",
       "  'Long-term averages of number of days during the year with snowfall >= 10.0 inches'),\n",
       " ('ANN-SNOW-NORMAL', 'Long-term averages of annual snowfall totals'),\n",
       " ('ANN-SNWD-AVGNDS-GE001WI',\n",
       "  'Long-term averages of number of days during the year with snow depth >= 1 inch'),\n",
       " ('ANN-SNWD-AVGNDS-GE003WI',\n",
       "  'Long-term averages of number of days during the year with snow depth >= 3 inches'),\n",
       " ('ANN-SNWD-AVGNDS-GE005WI',\n",
       "  'Long-term averages of number of days during the year with snow depth >=5 inches'),\n",
       " ('ANN-SNWD-AVGNDS-GE010WI',\n",
       "  'Long-term averages of number of days during the year with snow depth >=10 inches'),\n",
       " ('ANN-TAVG-NORMAL', 'Long-term averages of annual average temperature'),\n",
       " ('ANN-TMAX-AVGNDS-GRTH040',\n",
       "  'Long-term average number of days per year where tmax is greater than or equal to 40F'),\n",
       " ('ANN-TMAX-AVGNDS-GRTH050',\n",
       "  'Long-term average number of days per year where tmax is greater than or equal to 50F'),\n",
       " ('ANN-TMAX-AVGNDS-GRTH060',\n",
       "  'Long-term average number of days per year where tmax is greater than or equal to 60F'),\n",
       " ('ANN-TMAX-AVGNDS-GRTH070',\n",
       "  'Long-term average number of days per year where tmax is greater than or equal to 70F'),\n",
       " ('ANN-TMAX-AVGNDS-GRTH080',\n",
       "  'Long-term average number of days per year where tmax is greater than or equal to 80F'),\n",
       " ('ANN-TMAX-AVGNDS-GRTH090',\n",
       "  'Long-term average number of days per year where tmax is greater than or equal to 90F'),\n",
       " ('ANN-TMAX-AVGNDS-GRTH100',\n",
       "  'Long-term average number of days per year where tmax is greater than or equal to 100F'),\n",
       " ('ANN-TMAX-AVGNDS-LSTH032',\n",
       "  'Long-term average number of days per year where tmax is less than or equal to 32F'),\n",
       " ('ANN-TMAX-NORMAL', 'Long-term averages of annual maximum temperature'),\n",
       " ('ANN-TMIN-AVGNDS-LSTH000',\n",
       "  'Long-term average number of days per year where tmin is less than or equal to 0F'),\n",
       " ('ANN-TMIN-AVGNDS-LSTH010',\n",
       "  'Long-term average number of days per year where tmin is less than or equal to 10F'),\n",
       " ('ANN-TMIN-AVGNDS-LSTH020',\n",
       "  'Long-term average number of days per year where tmin is less than or equal to 20F'),\n",
       " ('ANN-TMIN-AVGNDS-LSTH032',\n",
       "  'Long-term average number of days per year where tmin is less than or equal to 32F'),\n",
       " ('ANN-TMIN-AVGNDS-LSTH040',\n",
       "  'Long-term average number of days per year where tmin is less than or equal to 40F'),\n",
       " ('ANN-TMIN-AVGNDS-LSTH050',\n",
       "  'Long-term average number of days per year where tmin is less than or equal to 50F'),\n",
       " ('ANN-TMIN-AVGNDS-LSTH060',\n",
       "  'Long-term average number of days per year where tmin is less than or equal to 60F'),\n",
       " ('ANN-TMIN-AVGNDS-LSTH070',\n",
       "  'Long-term average number of days per year where tmin is less than or equal to 70F'),\n",
       " ('ANN-TMIN-NORMAL', 'Long-term averages of annual minimum temperature'),\n",
       " ('ANN-TMIN-PRBFST-T16FP10',\n",
       "  '10% probability date of first 16F occurrence or earlier'),\n",
       " ('ANN-TMIN-PRBFST-T16FP20',\n",
       "  '20% probability date of first 16F occurrence or earlier'),\n",
       " ('ANN-TMIN-PRBFST-T16FP30',\n",
       "  '30% probability date of first 16F occurrence or earlier'),\n",
       " ('ANN-TMIN-PRBFST-T16FP40',\n",
       "  '40% probability date of first 16F occurrence or earlier'),\n",
       " ('ANN-TMIN-PRBFST-T16FP50',\n",
       "  '50% probability date of first 16F occurrence or earlier'),\n",
       " ('ANN-TMIN-PRBFST-T16FP60',\n",
       "  '60% probability date of first 16F occurrence or earlier'),\n",
       " ('ANN-TMIN-PRBFST-T16FP70',\n",
       "  '70% probability date of first 16F occurrence or earlier'),\n",
       " ('ANN-TMIN-PRBFST-T16FP80',\n",
       "  '80% probability date of first 16F occurrence or earlier'),\n",
       " ('ANN-TMIN-PRBFST-T16FP90',\n",
       "  '90% probability date of first 16F occurrence or earlier'),\n",
       " ('ANN-TMIN-PRBFST-T20FP10',\n",
       "  '10% probability date of first 20F occurrence or earlier'),\n",
       " ('ANN-TMIN-PRBFST-T20FP20',\n",
       "  '20% probability date of first 20F occurrence or earlier'),\n",
       " ('ANN-TMIN-PRBFST-T20FP30',\n",
       "  '30% probability date of first 20F occurrence or earlier'),\n",
       " ('ANN-TMIN-PRBFST-T20FP40',\n",
       "  '40% probability date of first 20F occurrence or earlier'),\n",
       " ('ANN-TMIN-PRBFST-T20FP50',\n",
       "  '50% probability date of first 20F occurrence or earlier'),\n",
       " ('ANN-TMIN-PRBFST-T20FP60',\n",
       "  '60% probability date of first 20F occurrence or earlier'),\n",
       " ('ANN-TMIN-PRBFST-T20FP70',\n",
       "  '70% probability date of first 20F occurrence or earlier'),\n",
       " ('ANN-TMIN-PRBFST-T20FP80',\n",
       "  '80% probability date of first 20F occurrence or earlier'),\n",
       " ('ANN-TMIN-PRBFST-T20FP90',\n",
       "  '90% probability date of first 20F occurrence or earlier'),\n",
       " ('ANN-TMIN-PRBFST-T24FP10',\n",
       "  '10% probability date of first 24F occurrence or earlier'),\n",
       " ('ANN-TMIN-PRBFST-T24FP20',\n",
       "  '20% probability date of first 24F occurrence or earlier'),\n",
       " ('ANN-TMIN-PRBFST-T24FP30',\n",
       "  '30% probability date of first 24F occurrence or earlier'),\n",
       " ('ANN-TMIN-PRBFST-T24FP40',\n",
       "  '40% probability date of first 24F occurrence or earlier'),\n",
       " ('ANN-TMIN-PRBFST-T24FP50',\n",
       "  '50% probability date of first 24F occurrence or earlier'),\n",
       " ('ANN-TMIN-PRBFST-T24FP60',\n",
       "  '60% probability date of first 24F occurrence or earlier'),\n",
       " ('ANN-TMIN-PRBFST-T24FP70',\n",
       "  '70% probability date of first 24F occurrence or earlier'),\n",
       " ('ANN-TMIN-PRBFST-T24FP80',\n",
       "  '80% probability date of first 24F occurrence or earlier'),\n",
       " ('ANN-TMIN-PRBFST-T24FP90',\n",
       "  '90% probability date of first 24F occurrence or earlier'),\n",
       " ('ANN-TMIN-PRBFST-T28FP10',\n",
       "  '10% probability date of first 28F occurrence or earlier'),\n",
       " ('ANN-TMIN-PRBFST-T28FP20',\n",
       "  '20% probability date of first 28F occurrence or earlier'),\n",
       " ('ANN-TMIN-PRBFST-T28FP30',\n",
       "  '30% probability date of first 28F occurrence or earlier'),\n",
       " ('ANN-TMIN-PRBFST-T28FP40',\n",
       "  '40% probability date of first 28F occurrence or earlier'),\n",
       " ('ANN-TMIN-PRBFST-T28FP50',\n",
       "  '50% probability date of first 28F occurrence or earlier'),\n",
       " ('ANN-TMIN-PRBFST-T28FP60',\n",
       "  '60% probability date of first 28F occurrence or earlier'),\n",
       " ('ANN-TMIN-PRBFST-T28FP70',\n",
       "  '70% probability date of first 28F occurrence or earlier')]"
      ]
     },
     "execution_count": 15,
     "metadata": {},
     "output_type": "execute_result"
    }
   ],
   "source": [
    "[(data['id'], data['name']) for data in response.json()['results']]"
   ]
  },
  {
   "cell_type": "code",
   "execution_count": 16,
   "metadata": {},
   "outputs": [],
   "source": [
    "def get_item(name, what, endpoint, start=1, end=None):\n",
    "    \"\"\"\n",
    "    Grab the JSON payload for a given field by name using binary search.\n",
    "\n",
    "    Parameters:\n",
    "        - name: The item to look for.\n",
    "        - what: Dictionary specifying what the item in `name` is.\n",
    "        - endpoint: Where to look for the item.\n",
    "        - start: The position to start at. We don't need to touch this, but the\n",
    "                 function will manipulate this with recursion.\n",
    "        - end: The last position of the cities. Used to find the midpoint, but\n",
    "               like `start` this is not something we need to worry about.\n",
    "\n",
    "    Returns:\n",
    "        Dictionary of the information for the item if found otherwise \n",
    "        an empty dictionary.\n",
    "    \"\"\"\n",
    "    # find the midpoint which we use to cut the data in half each time\n",
    "    mid = (start + (end if end else 1)) // 2\n",
    "    \n",
    "    # lowercase the name so this is not case-sensitive\n",
    "    name = name.lower()\n",
    "    \n",
    "    # define the payload we will send with each request\n",
    "    payload = {\n",
    "        'datasetid' : 'GHCND',\n",
    "        'sortfield' : 'name',\n",
    "        'offset' : mid, # we will change the offset each time\n",
    "        'limit' : 1 # we only want one value back\n",
    "    }\n",
    "    \n",
    "    # make our request adding any additional filter parameters from `what`\n",
    "    response = make_request(endpoint, {**payload, **what})\n",
    "    \n",
    "    if response.ok:\n",
    "        # if response is ok, grab the end index from the response metadata the first time through\n",
    "        end = end if end else response.json()['metadata']['resultset']['count']\n",
    "        \n",
    "        # grab the lowercase version of the current name\n",
    "        current_name = response.json()['results'][0]['name'].lower()\n",
    "        \n",
    "        # if what we are searching for is in the current name, we have found our item\n",
    "        if name in current_name:\n",
    "            return response.json()['results'][0] # return the found item\n",
    "        else:\n",
    "            if start >= end: \n",
    "                # if our start index is greater than or equal to our end, we couldn't find it\n",
    "                return {}\n",
    "            elif name < current_name:\n",
    "                # our name comes before the current name in the alphabet, so we search further to the left\n",
    "                return get_item(name, what, endpoint, start, mid - 1)\n",
    "            elif name > current_name:\n",
    "                # our name comes after the current name in the alphabet, so we search further to the right\n",
    "                return get_item(name, what, endpoint, mid + 1, end)    \n",
    "    else:\n",
    "        # response wasn't ok, use code to determine why\n",
    "        print(f'Response not OK, status: {response.status_code}')\n",
    "\n",
    "def get_location(name):\n",
    "    \"\"\"\n",
    "    Grab the JSON payload for the location by name using binary search.\n",
    "\n",
    "    Parameters:\n",
    "        - name: The city to look for.\n",
    "\n",
    "    Returns:\n",
    "        Dictionary of the information for the city if found otherwise \n",
    "        an empty dictionary.\n",
    "    \"\"\"\n",
    "    return get_item(name, {'locationcategoryid' : 'CITY'}, 'locations')"
   ]
  },
  {
   "cell_type": "code",
   "execution_count": 17,
   "metadata": {},
   "outputs": [
    {
     "data": {
      "text/plain": [
       "{'mindate': '1869-01-01',\n",
       " 'maxdate': '2019-11-01',\n",
       " 'name': 'New York, NY US',\n",
       " 'datacoverage': 1,\n",
       " 'id': 'CITY:US360019'}"
      ]
     },
     "execution_count": 17,
     "metadata": {},
     "output_type": "execute_result"
    }
   ],
   "source": [
    "# get NYC id \n",
    "nyc = get_location('New York')\n",
    "nyc"
   ]
  },
  {
   "cell_type": "code",
   "execution_count": null,
   "metadata": {},
   "outputs": [],
   "source": []
  }
 ],
 "metadata": {
  "kernelspec": {
   "display_name": "Python 3",
   "language": "python",
   "name": "python3"
  },
  "language_info": {
   "codemirror_mode": {
    "name": "ipython",
    "version": 3
   },
   "file_extension": ".py",
   "mimetype": "text/x-python",
   "name": "python",
   "nbconvert_exporter": "python",
   "pygments_lexer": "ipython3",
   "version": "3.7.3"
  }
 },
 "nbformat": 4,
 "nbformat_minor": 2
}
