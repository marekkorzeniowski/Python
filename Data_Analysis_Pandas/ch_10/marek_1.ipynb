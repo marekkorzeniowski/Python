{
 "cells": [
  {
   "cell_type": "code",
   "execution_count": 12,
   "metadata": {},
   "outputs": [
    {
     "data": {
      "text/html": [
       "<div>\n",
       "<style scoped>\n",
       "    .dataframe tbody tr th:only-of-type {\n",
       "        vertical-align: middle;\n",
       "    }\n",
       "\n",
       "    .dataframe tbody tr th {\n",
       "        vertical-align: top;\n",
       "    }\n",
       "\n",
       "    .dataframe thead th {\n",
       "        text-align: right;\n",
       "    }\n",
       "</style>\n",
       "<table border=\"1\" class=\"dataframe\">\n",
       "  <thead>\n",
       "    <tr style=\"text-align: right;\">\n",
       "      <th></th>\n",
       "      <th>magJ</th>\n",
       "      <th>radius</th>\n",
       "      <th>magB</th>\n",
       "      <th>magV</th>\n",
       "      <th>temperature</th>\n",
       "      <th>magK</th>\n",
       "      <th>mass</th>\n",
       "      <th>metallicity</th>\n",
       "      <th>magH</th>\n",
       "      <th>planets</th>\n",
       "    </tr>\n",
       "  </thead>\n",
       "  <tbody>\n",
       "    <tr>\n",
       "      <th>0</th>\n",
       "      <td>2.943</td>\n",
       "      <td>19.000</td>\n",
       "      <td>5.740</td>\n",
       "      <td>4.740</td>\n",
       "      <td>4742.0</td>\n",
       "      <td>2.282</td>\n",
       "      <td>2.70</td>\n",
       "      <td>-0.350</td>\n",
       "      <td>2.484</td>\n",
       "      <td>1.0</td>\n",
       "    </tr>\n",
       "    <tr>\n",
       "      <th>1</th>\n",
       "      <td>2.876</td>\n",
       "      <td>24.080</td>\n",
       "      <td>6.415</td>\n",
       "      <td>5.024</td>\n",
       "      <td>4340.0</td>\n",
       "      <td>1.939</td>\n",
       "      <td>1.80</td>\n",
       "      <td>0.040</td>\n",
       "      <td>2.091</td>\n",
       "      <td>1.0</td>\n",
       "    </tr>\n",
       "    <tr>\n",
       "      <th>2</th>\n",
       "      <td>3.019</td>\n",
       "      <td>11.000</td>\n",
       "      <td>6.240</td>\n",
       "      <td>5.220</td>\n",
       "      <td>4813.0</td>\n",
       "      <td>2.331</td>\n",
       "      <td>2.20</td>\n",
       "      <td>-0.240</td>\n",
       "      <td>2.608</td>\n",
       "      <td>1.0</td>\n",
       "    </tr>\n",
       "    <tr>\n",
       "      <th>3</th>\n",
       "      <td>5.158</td>\n",
       "      <td>0.708</td>\n",
       "      <td>7.570</td>\n",
       "      <td>6.670</td>\n",
       "      <td>5311.0</td>\n",
       "      <td>4.714</td>\n",
       "      <td>1.00</td>\n",
       "      <td>0.430</td>\n",
       "      <td>4.803</td>\n",
       "      <td>2.0</td>\n",
       "    </tr>\n",
       "    <tr>\n",
       "      <th>4</th>\n",
       "      <td>5.090</td>\n",
       "      <td>1.243</td>\n",
       "      <td>6.590</td>\n",
       "      <td>5.950</td>\n",
       "      <td>5825.0</td>\n",
       "      <td>4.430</td>\n",
       "      <td>1.11</td>\n",
       "      <td>0.096</td>\n",
       "      <td>4.720</td>\n",
       "      <td>0.0</td>\n",
       "    </tr>\n",
       "  </tbody>\n",
       "</table>\n",
       "</div>"
      ],
      "text/plain": [
       "    magJ  radius   magB   magV  temperature   magK  mass  metallicity   magH  \\\n",
       "0  2.943  19.000  5.740  4.740       4742.0  2.282  2.70       -0.350  2.484   \n",
       "1  2.876  24.080  6.415  5.024       4340.0  1.939  1.80        0.040  2.091   \n",
       "2  3.019  11.000  6.240  5.220       4813.0  2.331  2.20       -0.240  2.608   \n",
       "3  5.158   0.708  7.570  6.670       5311.0  4.714  1.00        0.430  4.803   \n",
       "4  5.090   1.243  6.590  5.950       5825.0  4.430  1.11        0.096  4.720   \n",
       "\n",
       "   planets  \n",
       "0      1.0  \n",
       "1      1.0  \n",
       "2      1.0  \n",
       "3      2.0  \n",
       "4      0.0  "
      ]
     },
     "execution_count": 12,
     "metadata": {},
     "output_type": "execute_result"
    }
   ],
   "source": [
    "%matplotlib inline\n",
    "\n",
    "import matplotlib.pyplot as plt\n",
    "import numpy as np\n",
    "import pandas as pd\n",
    "import seaborn as sns\n",
    "\n",
    "stars = pd.read_csv('data/stars.csv').drop(columns=['name', 'spectraltype']).dropna()\n",
    "stars.head()"
   ]
  },
  {
   "cell_type": "code",
   "execution_count": 13,
   "metadata": {},
   "outputs": [
    {
     "data": {
      "text/plain": [
       "(576, 10)"
      ]
     },
     "execution_count": 13,
     "metadata": {},
     "output_type": "execute_result"
    }
   ],
   "source": [
    "stars.shape"
   ]
  },
  {
   "cell_type": "code",
   "execution_count": 14,
   "metadata": {},
   "outputs": [
    {
     "data": {
      "text/html": [
       "<div>\n",
       "<style scoped>\n",
       "    .dataframe tbody tr th:only-of-type {\n",
       "        vertical-align: middle;\n",
       "    }\n",
       "\n",
       "    .dataframe tbody tr th {\n",
       "        vertical-align: top;\n",
       "    }\n",
       "\n",
       "    .dataframe thead th {\n",
       "        text-align: right;\n",
       "    }\n",
       "</style>\n",
       "<table border=\"1\" class=\"dataframe\">\n",
       "  <thead>\n",
       "    <tr style=\"text-align: right;\">\n",
       "      <th></th>\n",
       "      <th>magJ</th>\n",
       "      <th>radius</th>\n",
       "      <th>magB</th>\n",
       "      <th>magV</th>\n",
       "      <th>magK</th>\n",
       "      <th>mass</th>\n",
       "      <th>metallicity</th>\n",
       "      <th>magH</th>\n",
       "      <th>planets</th>\n",
       "    </tr>\n",
       "  </thead>\n",
       "  <tbody>\n",
       "    <tr>\n",
       "      <th>0</th>\n",
       "      <td>2.943</td>\n",
       "      <td>19.000</td>\n",
       "      <td>5.740</td>\n",
       "      <td>4.740</td>\n",
       "      <td>2.282</td>\n",
       "      <td>2.70</td>\n",
       "      <td>-0.350</td>\n",
       "      <td>2.484</td>\n",
       "      <td>1.0</td>\n",
       "    </tr>\n",
       "    <tr>\n",
       "      <th>1</th>\n",
       "      <td>2.876</td>\n",
       "      <td>24.080</td>\n",
       "      <td>6.415</td>\n",
       "      <td>5.024</td>\n",
       "      <td>1.939</td>\n",
       "      <td>1.80</td>\n",
       "      <td>0.040</td>\n",
       "      <td>2.091</td>\n",
       "      <td>1.0</td>\n",
       "    </tr>\n",
       "    <tr>\n",
       "      <th>2</th>\n",
       "      <td>3.019</td>\n",
       "      <td>11.000</td>\n",
       "      <td>6.240</td>\n",
       "      <td>5.220</td>\n",
       "      <td>2.331</td>\n",
       "      <td>2.20</td>\n",
       "      <td>-0.240</td>\n",
       "      <td>2.608</td>\n",
       "      <td>1.0</td>\n",
       "    </tr>\n",
       "    <tr>\n",
       "      <th>3</th>\n",
       "      <td>5.158</td>\n",
       "      <td>0.708</td>\n",
       "      <td>7.570</td>\n",
       "      <td>6.670</td>\n",
       "      <td>4.714</td>\n",
       "      <td>1.00</td>\n",
       "      <td>0.430</td>\n",
       "      <td>4.803</td>\n",
       "      <td>2.0</td>\n",
       "    </tr>\n",
       "    <tr>\n",
       "      <th>4</th>\n",
       "      <td>5.090</td>\n",
       "      <td>1.243</td>\n",
       "      <td>6.590</td>\n",
       "      <td>5.950</td>\n",
       "      <td>4.430</td>\n",
       "      <td>1.11</td>\n",
       "      <td>0.096</td>\n",
       "      <td>4.720</td>\n",
       "      <td>0.0</td>\n",
       "    </tr>\n",
       "  </tbody>\n",
       "</table>\n",
       "</div>"
      ],
      "text/plain": [
       "    magJ  radius   magB   magV   magK  mass  metallicity   magH  planets\n",
       "0  2.943  19.000  5.740  4.740  2.282  2.70       -0.350  2.484      1.0\n",
       "1  2.876  24.080  6.415  5.024  1.939  1.80        0.040  2.091      1.0\n",
       "2  3.019  11.000  6.240  5.220  2.331  2.20       -0.240  2.608      1.0\n",
       "3  5.158   0.708  7.570  6.670  4.714  1.00        0.430  4.803      2.0\n",
       "4  5.090   1.243  6.590  5.950  4.430  1.11        0.096  4.720      0.0"
      ]
     },
     "execution_count": 14,
     "metadata": {},
     "output_type": "execute_result"
    }
   ],
   "source": [
    "y = stars.pop('temperature')\n",
    "x = stars\n",
    "x.head()"
   ]
  },
  {
   "cell_type": "code",
   "execution_count": 15,
   "metadata": {},
   "outputs": [
    {
     "data": {
      "text/plain": [
       "0    4742.0\n",
       "1    4340.0\n",
       "2    4813.0\n",
       "3    5311.0\n",
       "4    5825.0\n",
       "Name: temperature, dtype: float64"
      ]
     },
     "execution_count": 15,
     "metadata": {},
     "output_type": "execute_result"
    }
   ],
   "source": [
    "y.head()"
   ]
  },
  {
   "cell_type": "code",
   "execution_count": 16,
   "metadata": {},
   "outputs": [
    {
     "data": {
      "text/plain": [
       "magJ           0\n",
       "radius         0\n",
       "magB           0\n",
       "magV           0\n",
       "magK           0\n",
       "mass           0\n",
       "metallicity    0\n",
       "magH           0\n",
       "planets        0\n",
       "dtype: int64"
      ]
     },
     "execution_count": 16,
     "metadata": {},
     "output_type": "execute_result"
    }
   ],
   "source": [
    "x.isnull().sum()"
   ]
  },
  {
   "cell_type": "code",
   "execution_count": 17,
   "metadata": {},
   "outputs": [
    {
     "name": "stdout",
     "output_type": "stream",
     "text": [
      "<class 'pandas.core.frame.DataFrame'>\n",
      "Int64Index: 576 entries, 0 to 2970\n",
      "Data columns (total 9 columns):\n",
      "magJ           576 non-null float64\n",
      "radius         576 non-null float64\n",
      "magB           576 non-null float64\n",
      "magV           576 non-null float64\n",
      "magK           576 non-null float64\n",
      "mass           576 non-null float64\n",
      "metallicity    576 non-null float64\n",
      "magH           576 non-null float64\n",
      "planets        576 non-null float64\n",
      "dtypes: float64(9)\n",
      "memory usage: 45.0 KB\n"
     ]
    },
    {
     "data": {
      "text/plain": [
       "(None, (576, 9))"
      ]
     },
     "execution_count": 17,
     "metadata": {},
     "output_type": "execute_result"
    }
   ],
   "source": [
    "x.info(), x.shape"
   ]
  },
  {
   "cell_type": "code",
   "execution_count": 19,
   "metadata": {},
   "outputs": [],
   "source": [
    "from sklearn.model_selection import train_test_split\n",
    "\n",
    "x_train, x_test, y_train, y_test = train_test_split(x, y, test_size = 0.25, random_state=0)"
   ]
  },
  {
   "cell_type": "code",
   "execution_count": 20,
   "metadata": {},
   "outputs": [],
   "source": [
    "%%capture \n",
    "# don't show warning messages or output for this cell\n",
    "from sklearn.linear_model import ElasticNet\n",
    "from sklearn.model_selection import GridSearchCV\n",
    "from sklearn.pipeline import Pipeline\n",
    "from sklearn.preprocessing import MinMaxScaler"
   ]
  },
  {
   "cell_type": "code",
   "execution_count": 23,
   "metadata": {},
   "outputs": [],
   "source": [
    "pipeline = Pipeline([\n",
    "    ('scale', MinMaxScaler()),\n",
    "    ('net', ElasticNet(random_state=0))\n",
    "])"
   ]
  },
  {
   "cell_type": "code",
   "execution_count": 24,
   "metadata": {},
   "outputs": [],
   "source": [
    "ElasticNet?"
   ]
  },
  {
   "cell_type": "code",
   "execution_count": 26,
   "metadata": {},
   "outputs": [],
   "source": [
    "%%capture \n",
    "search_space = {\n",
    "    'net__alpha' : [0.1, 0.5, 1, 1.5, 2, 5],\n",
    "    'net__l1_ratio' : np.linspace(0, 1, num=10),\n",
    "    'net__fit_intercept' : [True, False]\n",
    "}\n",
    "\n",
    "net_grid = GridSearchCV(pipeline, search_space, cv=5).fit(x_train, y_train)"
   ]
  },
  {
   "cell_type": "code",
   "execution_count": 27,
   "metadata": {},
   "outputs": [
    {
     "data": {
      "text/plain": [
       "{'net__alpha': 0.1, 'net__fit_intercept': True, 'net__l1_ratio': 1.0}"
      ]
     },
     "execution_count": 27,
     "metadata": {},
     "output_type": "execute_result"
    }
   ],
   "source": [
    "net_grid.best_params_"
   ]
  },
  {
   "cell_type": "code",
   "execution_count": 28,
   "metadata": {},
   "outputs": [
    {
     "data": {
      "text/plain": [
       "0.9087828533751551"
      ]
     },
     "execution_count": 28,
     "metadata": {},
     "output_type": "execute_result"
    }
   ],
   "source": [
    "net_grid.score(x_test, y_test)"
   ]
  },
  {
   "cell_type": "code",
   "execution_count": 31,
   "metadata": {},
   "outputs": [
    {
     "data": {
      "text/plain": [
       "5247.4935043765545"
      ]
     },
     "execution_count": 31,
     "metadata": {},
     "output_type": "execute_result"
    }
   ],
   "source": [
    "net_grid.best_estimator_.named_steps['net'].intercept_"
   ]
  },
  {
   "cell_type": "code",
   "execution_count": 32,
   "metadata": {},
   "outputs": [
    {
     "data": {
      "text/plain": [
       "array([-9.56582893e+03, -5.16077878e+00, -6.23698868e+03, -4.29352587e+03,\n",
       "        1.98511665e+04,  7.56112904e+02,  2.23721385e+00, -0.00000000e+00,\n",
       "       -2.54552819e+02])"
      ]
     },
     "execution_count": 32,
     "metadata": {},
     "output_type": "execute_result"
    }
   ],
   "source": [
    "net_grid.best_estimator_.named_steps['net'].coef_"
   ]
  },
  {
   "cell_type": "code",
   "execution_count": 33,
   "metadata": {},
   "outputs": [
    {
     "data": {
      "text/plain": [
       "[('magJ', -9565.82893404894),\n",
       " ('radius', -5.160778783635048),\n",
       " ('magB', -6236.988678823794),\n",
       " ('magV', -4293.525874880935),\n",
       " ('magK', 19851.16654114147),\n",
       " ('mass', 756.1129040290806),\n",
       " ('metallicity', 2.23721384997471),\n",
       " ('magH', -0.0),\n",
       " ('planets', -254.55281943900587)]"
      ]
     },
     "execution_count": 33,
     "metadata": {},
     "output_type": "execute_result"
    }
   ],
   "source": [
    "[(col, coef) for col, coef in zip(x_test.columns,net_grid.best_estimator_.named_steps['net'].coef_ )]"
   ]
  },
  {
   "cell_type": "code",
   "execution_count": 36,
   "metadata": {},
   "outputs": [
    {
     "data": {
      "text/plain": [
       "array([<matplotlib.axes._subplots.AxesSubplot object at 0x0E379470>,\n",
       "       <matplotlib.axes._subplots.AxesSubplot object at 0x0E89B270>],\n",
       "      dtype=object)"
      ]
     },
     "execution_count": 36,
     "metadata": {},
     "output_type": "execute_result"
    },
    {
     "data": {
      "image/png": "[encoded data removed]",
      "text/plain": [
       "<Figure size 1080x216 with 2 Axes>"
      ]
     },
     "metadata": {
      "needs_background": "light"
     },
     "output_type": "display_data"
    }
   ],
   "source": [
    "from ml_utils.regression import plot_residuals\n",
    "\n",
    "plot_residuals(y_test, net_grid.predict(x_test))"
   ]
  },
  {
   "cell_type": "code",
   "execution_count": null,
   "metadata": {},
   "outputs": [],
   "source": []
  }
 ],
 "metadata": {
  "kernelspec": {
   "display_name": "book_env",
   "language": "python",
   "name": "book_env"
  },
  "language_info": {
   "codemirror_mode": {
    "name": "ipython",
    "version": 3
   },
   "file_extension": ".py",
   "mimetype": "text/x-python",
   "name": "python",
   "nbconvert_exporter": "python",
   "pygments_lexer": "ipython3",
   "version": "3.7.4"
  }
 },
 "nbformat": 4,
 "nbformat_minor": 2
}
