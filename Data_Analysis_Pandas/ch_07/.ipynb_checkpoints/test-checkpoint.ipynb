{
 "cells": [
  {
   "cell_type": "code",
   "execution_count": 1,
   "metadata": {},
   "outputs": [],
   "source": [
    "import pandas as pd\n",
    "import pandas_datareader.data as web"
   ]
  },
  {
   "cell_type": "code",
   "execution_count": 3,
   "metadata": {},
   "outputs": [],
   "source": [
    "bit = pd.read_html(\n",
    "            'https://coinmarketcap.com/currencies/bitcoin/historical-data/'\n",
    ")[2]"
   ]
  },
  {
   "cell_type": "code",
   "execution_count": 4,
   "metadata": {},
   "outputs": [
    {
     "data": {
      "text/html": [
       "<div>\n",
       "<style scoped>\n",
       "    .dataframe tbody tr th:only-of-type {\n",
       "        vertical-align: middle;\n",
       "    }\n",
       "\n",
       "    .dataframe tbody tr th {\n",
       "        vertical-align: top;\n",
       "    }\n",
       "\n",
       "    .dataframe thead th {\n",
       "        text-align: right;\n",
       "    }\n",
       "</style>\n",
       "<table border=\"1\" class=\"dataframe\">\n",
       "  <thead>\n",
       "    <tr style=\"text-align: right;\">\n",
       "      <th></th>\n",
       "      <th>Date</th>\n",
       "      <th>Open*</th>\n",
       "      <th>High</th>\n",
       "      <th>Low</th>\n",
       "      <th>Close**</th>\n",
       "      <th>Volume</th>\n",
       "      <th>Market Cap</th>\n",
       "    </tr>\n",
       "  </thead>\n",
       "  <tbody>\n",
       "    <tr>\n",
       "      <th>0</th>\n",
       "      <td>Dec 05, 2019</td>\n",
       "      <td>7253.24</td>\n",
       "      <td>7743.43</td>\n",
       "      <td>7232.68</td>\n",
       "      <td>7448.31</td>\n",
       "      <td>18816085231</td>\n",
       "      <td>134706455048</td>\n",
       "    </tr>\n",
       "    <tr>\n",
       "      <th>1</th>\n",
       "      <td>Dec 04, 2019</td>\n",
       "      <td>7320.13</td>\n",
       "      <td>7539.78</td>\n",
       "      <td>7170.92</td>\n",
       "      <td>7252.03</td>\n",
       "      <td>21664240918</td>\n",
       "      <td>131143073943</td>\n",
       "    </tr>\n",
       "    <tr>\n",
       "      <th>2</th>\n",
       "      <td>Dec 03, 2019</td>\n",
       "      <td>7323.98</td>\n",
       "      <td>7418.86</td>\n",
       "      <td>7229.36</td>\n",
       "      <td>7320.15</td>\n",
       "      <td>14797485769</td>\n",
       "      <td>132359942301</td>\n",
       "    </tr>\n",
       "    <tr>\n",
       "      <th>3</th>\n",
       "      <td>Dec 02, 2019</td>\n",
       "      <td>7424.04</td>\n",
       "      <td>7474.82</td>\n",
       "      <td>7233.40</td>\n",
       "      <td>7321.99</td>\n",
       "      <td>17082040706</td>\n",
       "      <td>132378982377</td>\n",
       "    </tr>\n",
       "    <tr>\n",
       "      <th>4</th>\n",
       "      <td>Dec 01, 2019</td>\n",
       "      <td>7571.62</td>\n",
       "      <td>7571.62</td>\n",
       "      <td>7291.34</td>\n",
       "      <td>7424.29</td>\n",
       "      <td>18720708479</td>\n",
       "      <td>134215145410</td>\n",
       "    </tr>\n",
       "  </tbody>\n",
       "</table>\n",
       "</div>"
      ],
      "text/plain": [
       "           Date    Open*     High      Low  Close**       Volume    Market Cap\n",
       "0  Dec 05, 2019  7253.24  7743.43  7232.68  7448.31  18816085231  134706455048\n",
       "1  Dec 04, 2019  7320.13  7539.78  7170.92  7252.03  21664240918  131143073943\n",
       "2  Dec 03, 2019  7323.98  7418.86  7229.36  7320.15  14797485769  132359942301\n",
       "3  Dec 02, 2019  7424.04  7474.82  7233.40  7321.99  17082040706  132378982377\n",
       "4  Dec 01, 2019  7571.62  7571.62  7291.34  7424.29  18720708479  134215145410"
      ]
     },
     "execution_count": 4,
     "metadata": {},
     "output_type": "execute_result"
    }
   ],
   "source": [
    "bit.head()"
   ]
  },
  {
   "cell_type": "code",
   "execution_count": 5,
   "metadata": {},
   "outputs": [],
   "source": [
    "bit = bit.assign(\n",
    "    Date = pd.to_datetime(bit['Date'])\n",
    ")"
   ]
  },
  {
   "cell_type": "code",
   "execution_count": 7,
   "metadata": {},
   "outputs": [
    {
     "data": {
      "text/html": [
       "<div>\n",
       "<style scoped>\n",
       "    .dataframe tbody tr th:only-of-type {\n",
       "        vertical-align: middle;\n",
       "    }\n",
       "\n",
       "    .dataframe tbody tr th {\n",
       "        vertical-align: top;\n",
       "    }\n",
       "\n",
       "    .dataframe thead th {\n",
       "        text-align: right;\n",
       "    }\n",
       "</style>\n",
       "<table border=\"1\" class=\"dataframe\">\n",
       "  <thead>\n",
       "    <tr style=\"text-align: right;\">\n",
       "      <th></th>\n",
       "      <th>Open*</th>\n",
       "      <th>High</th>\n",
       "      <th>Low</th>\n",
       "      <th>Close**</th>\n",
       "      <th>Volume</th>\n",
       "      <th>Market Cap</th>\n",
       "    </tr>\n",
       "    <tr>\n",
       "      <th>Date</th>\n",
       "      <th></th>\n",
       "      <th></th>\n",
       "      <th></th>\n",
       "      <th></th>\n",
       "      <th></th>\n",
       "      <th></th>\n",
       "    </tr>\n",
       "  </thead>\n",
       "  <tbody>\n",
       "    <tr>\n",
       "      <th>2019-11-06</th>\n",
       "      <td>9340.86</td>\n",
       "      <td>9423.24</td>\n",
       "      <td>9305.91</td>\n",
       "      <td>9360.88</td>\n",
       "      <td>23133895765</td>\n",
       "      <td>168806151583</td>\n",
       "    </tr>\n",
       "    <tr>\n",
       "      <th>2019-11-07</th>\n",
       "      <td>9352.39</td>\n",
       "      <td>9368.48</td>\n",
       "      <td>9202.35</td>\n",
       "      <td>9267.56</td>\n",
       "      <td>22700383839</td>\n",
       "      <td>167138722904</td>\n",
       "    </tr>\n",
       "    <tr>\n",
       "      <th>2019-11-08</th>\n",
       "      <td>9265.37</td>\n",
       "      <td>9272.76</td>\n",
       "      <td>8775.53</td>\n",
       "      <td>8804.88</td>\n",
       "      <td>24333037836</td>\n",
       "      <td>158808570729</td>\n",
       "    </tr>\n",
       "    <tr>\n",
       "      <th>2019-11-09</th>\n",
       "      <td>8809.47</td>\n",
       "      <td>8891.82</td>\n",
       "      <td>8793.16</td>\n",
       "      <td>8813.58</td>\n",
       "      <td>17578630606</td>\n",
       "      <td>158981489715</td>\n",
       "    </tr>\n",
       "    <tr>\n",
       "      <th>2019-11-10</th>\n",
       "      <td>8812.49</td>\n",
       "      <td>9103.83</td>\n",
       "      <td>8806.16</td>\n",
       "      <td>9055.53</td>\n",
       "      <td>20587919881</td>\n",
       "      <td>163364406732</td>\n",
       "    </tr>\n",
       "  </tbody>\n",
       "</table>\n",
       "</div>"
      ],
      "text/plain": [
       "              Open*     High      Low  Close**       Volume    Market Cap\n",
       "Date                                                                     \n",
       "2019-11-06  9340.86  9423.24  9305.91  9360.88  23133895765  168806151583\n",
       "2019-11-07  9352.39  9368.48  9202.35  9267.56  22700383839  167138722904\n",
       "2019-11-08  9265.37  9272.76  8775.53  8804.88  24333037836  158808570729\n",
       "2019-11-09  8809.47  8891.82  8793.16  8813.58  17578630606  158981489715\n",
       "2019-11-10  8812.49  9103.83  8806.16  9055.53  20587919881  163364406732"
      ]
     },
     "execution_count": 7,
     "metadata": {},
     "output_type": "execute_result"
    }
   ],
   "source": [
    "bit.set_index('Date').sort_index().head()"
   ]
  },
  {
   "cell_type": "code",
   "execution_count": 11,
   "metadata": {},
   "outputs": [],
   "source": [
    "labels = bit.columns"
   ]
  },
  {
   "cell_type": "code",
   "execution_count": null,
   "metadata": {},
   "outputs": [],
   "source": []
  },
  {
   "cell_type": "code",
   "execution_count": null,
   "metadata": {},
   "outputs": [],
   "source": []
  },
  {
   "cell_type": "code",
   "execution_count": null,
   "metadata": {},
   "outputs": [],
   "source": []
  },
  {
   "cell_type": "code",
   "execution_count": 9,
   "metadata": {},
   "outputs": [],
   "source": [
    "import re"
   ]
  },
  {
   "cell_type": "code",
   "execution_count": 10,
   "metadata": {},
   "outputs": [],
   "source": [
    "re.sub()"
   ]
  },
  {
   "cell_type": "code",
   "execution_count": null,
   "metadata": {},
   "outputs": [],
   "source": []
  }
 ],
 "metadata": {
  "kernelspec": {
   "display_name": "book_env",
   "language": "python",
   "name": "book_env"
  },
  "language_info": {
   "codemirror_mode": {
    "name": "ipython",
    "version": 3
   },
   "file_extension": ".py",
   "mimetype": "text/x-python",
   "name": "python",
   "nbconvert_exporter": "python",
   "pygments_lexer": "ipython3",
   "version": "3.7.4"
  }
 },
 "nbformat": 4,
 "nbformat_minor": 2
}
